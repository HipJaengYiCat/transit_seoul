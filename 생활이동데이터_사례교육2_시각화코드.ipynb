{
 "cells": [
  {
   "cell_type": "markdown",
   "id": "8e966f28",
   "metadata": {
    "id": "8e966f28"
   },
   "source": [
    "작성자: 김혜인 (서울시립대학교 도시공학과 석사과정), hye2in@uos.ac.kr / hyein2kim@gmail.com, 2025"
   ]
  },
  {
   "cell_type": "markdown",
   "id": "bf9fd617",
   "metadata": {
    "id": "bf9fd617"
   },
   "source": [
    "# 수도권 생활이동 데이터 해커톤 교육"
   ]
  },
  {
   "cell_type": "code",
   "execution_count": null,
   "id": "84daee24-c83b-4ca0-8bf5-fea88f92f046",
   "metadata": {
    "execution": {
     "iopub.execute_input": "2025-07-29T07:22:27.415722Z",
     "iopub.status.busy": "2025-07-29T07:22:27.415474Z",
     "iopub.status.idle": "2025-07-29T07:22:27.420071Z",
     "shell.execute_reply": "2025-07-29T07:22:27.419578Z",
     "shell.execute_reply.started": "2025-07-29T07:22:27.415705Z"
    },
    "id": "84daee24-c83b-4ca0-8bf5-fea88f92f046"
   },
   "outputs": [],
   "source": [
    "# 기본 시스템/환경 관련 모듈\n",
    "import os\n",
    "import warnings\n",
    "# 데이터 처리\n",
    "import numpy as np\n",
    "import polars as pl\n",
    "import pandas as pd\n",
    "import geopandas as gpd\n",
    "from shapely.geometry import LineString, Point, Polygon\n",
    "# 시각화\n",
    "import matplotlib as mpl\n",
    "import matplotlib.lines as mlines\n",
    "import matplotlib.pyplot as plt\n",
    "from matplotlib import cm, colors\n",
    "from matplotlib.cm import ScalarMappable\n",
    "import seaborn as sns"
   ]
  },
  {
   "cell_type": "code",
   "execution_count": null,
   "id": "0154218f-4719-4c08-bea2-20ec691f6543",
   "metadata": {
    "execution": {
     "iopub.execute_input": "2025-07-29T04:23:50.021044Z",
     "iopub.status.busy": "2025-07-29T04:23:50.020688Z",
     "iopub.status.idle": "2025-07-29T04:23:50.025795Z",
     "shell.execute_reply": "2025-07-29T04:23:50.025389Z",
     "shell.execute_reply.started": "2025-07-29T04:23:50.021024Z"
    },
    "id": "0154218f-4719-4c08-bea2-20ec691f6543"
   },
   "outputs": [],
   "source": [
    "root = 'root'\n",
    "data = os.path.join(root, 'data')\n",
    "raw_data = os.path.join(data, 'raw')\n",
    "processed_data = os.path.join(data, 'processed')\n",
    "results = os.path.join(root, 'results')"
   ]
  },
  {
   "cell_type": "markdown",
   "id": "2eb056ed-fca0-40e7-8772-f065dbb0aea2",
   "metadata": {
    "id": "2eb056ed-fca0-40e7-8772-f065dbb0aea2"
   },
   "source": [
    "## Create a 250m empty grid shapefile 250m 격자 Shapefile 생성"
   ]
  },
  {
   "cell_type": "code",
   "execution_count": null,
   "id": "98bd0eae",
   "metadata": {
    "id": "98bd0eae"
   },
   "outputs": [],
   "source": [
    "# 사전 전처리된 이동 데이터 필요 (base_ldf)"
   ]
  },
  {
   "cell_type": "code",
   "execution_count": null,
   "id": "4b9b7911",
   "metadata": {
    "id": "4b9b7911"
   },
   "outputs": [],
   "source": [
    "# Grid size definition 격자 크기 정의\n",
    "grid_size = 250\n",
    "half_grid_size = grid_size / 2\n",
    "\n",
    "# 1. Extract unique origin grid information from base data 출발지 격자 정보 추출\n",
    "origin_grids_df = base_ldf.select(['o_cell_id', 'o_cell_x', 'o_cell_y']).unique().collect().to_pandas()\n",
    "origin_grids_df = origin_grids_df.rename(columns={'o_cell_id': 'cell_id', 'o_cell_x': 'cell_x', 'o_cell_y': 'cell_y'})\n",
    "\n",
    "# 2. Extract unique destination grid information from base data 도착지 격자 정보 추출\n",
    "destination_grids_df = base_ldf.select(['d_cell_id', 'd_cell_x', 'd_cell_y']).unique().collect().to_pandas()\n",
    "destination_grids_df = destination_grids_df.rename(columns={'d_cell_id': 'cell_id', 'd_cell_x': 'cell_x', 'd_cell_y': 'cell_y'})\n",
    "\n",
    "# 3. Merge both datasets and remove duplicates 출발지 도착지 격자 정보 결합 및 중복 제거\n",
    "all_grids_df = pd.concat([origin_grids_df, destination_grids_df], ignore_index=True)\n",
    "all_grids_df = all_grids_df.drop_duplicates(subset=['cell_id']).reset_index(drop=True)\n",
    "\n",
    "# 4. Create Polygon geometry (250m x 250m) centered on (cell_x, cell_y) 격자 중심좌표 기준 사각형 폴리곤 생성\n",
    "geometry_all = [\n",
    "    Polygon([\n",
    "        (x - half_grid_size, y - half_grid_size),\n",
    "        (x + half_grid_size, y - half_grid_size),\n",
    "        (x + half_grid_size, y + half_grid_size),\n",
    "        (x - half_grid_size, y + half_grid_size),\n",
    "        (x - half_grid_size, y - half_grid_size)\n",
    "    ])\n",
    "    for x, y in zip(all_grids_df['cell_x'], all_grids_df['cell_y'])\n",
    "]\n",
    "\n",
    "# 5. Create GeoDataFrame GeodataFrame 생성 및 좌표계 설정\n",
    "all_grids_gdf = gpd.GeoDataFrame(all_grids_df, geometry=geometry_all)\n",
    "all_grids_gdf.crs = \"EPSG:5179\"  # UTM-K\n",
    "\n",
    "# 6. Define output path and save to shapefile\n",
    "processed_data = './output'\n",
    "os.makedirs(processed_data, exist_ok=True)\n",
    "all_shp_path = os.path.join(processed_data, 'grid_250m.shp')\n",
    "all_grids_gdf.to_file(all_shp_path, driver='ESRI Shapefile')"
   ]
  },
  {
   "cell_type": "markdown",
   "id": "8699fc63-d4d2-4d97-8d8e-9eada1493197",
   "metadata": {
    "id": "8699fc63-d4d2-4d97-8d8e-9eada1493197"
   },
   "source": [
    "## Visualization"
   ]
  },
  {
   "cell_type": "markdown",
   "id": "d2251660-1119-47ee-b816-49d04fbaa696",
   "metadata": {
    "id": "d2251660-1119-47ee-b816-49d04fbaa696"
   },
   "source": [
    "### OD MATRIX"
   ]
  },
  {
   "cell_type": "code",
   "execution_count": null,
   "id": "ad3304d2",
   "metadata": {
    "id": "ad3304d2"
   },
   "outputs": [],
   "source": [
    "# Load processed OD movement data (base_ldf) 사전 전처리된 이동 데이터 (base_ldf)\n",
    "# o_cell_id, d_cell_id, total_cnt가 포함되어야 함\n",
    "\n",
    "# Load 250m Grid shapefile 앞서 생성한 250m 격자 shapefile (grid_250m)\n",
    "\n",
    "# Remove self-loops (movements within the same grid)\n",
    "# # In this script, movements within the same grid cell are excluded to focus on overall movement flow patterns.\n",
    "# 본 스크립트에서는 이동 흐름 추세를 확인하기 위해 동일 격자 내 이동은 제거하였음\n",
    "base_ldf_no_self_loops = base_ldf.filter(pl.col('o_cell_id') != pl.col('d_cell_id'))\n",
    "\n",
    "# Sum total_cnt for each origin-destination pair 출발지-도착지 쌍별 total_cnt 합산\n",
    "od_summed_ldf = base_ldf_no_self_loops.group_by(['o_cell_id', 'd_cell_id']).agg(\n",
    "    pl.sum('total_cnt').alias('total_movement_summed')\n",
    ")\n",
    "\n",
    "# Convert LazyFrame to Pandas DataFrame LazyFrame을 Pandas DataFrame으로 변환\n",
    "od_summed_df = od_summed_ldf.collect().to_pandas()\n",
    "\n",
    "# Join Grid Geometries 격자 지오메트리 결합\n",
    "\n",
    "# Prepare origin grid geometries 출발 격자 지오메트리\n",
    "grid_origin = grid[['cell_id', 'geometry']].rename(columns={'cell_id': 'o_cell_id', 'geometry': 'geometry_origin'})\n",
    "# Merge origin geometries 출발 격자 지오메트리 결합\n",
    "od_summed_with_origin_geom = od_summed_df.merge(grid_origin, on='o_cell_id', how='left')\n",
    "\n",
    "# Prepare destination grid geometries 도착 격자 지오메트리 준비\n",
    "grid_destination = grid[['cell_id', 'geometry']].rename(columns={'cell_id': 'd_cell_id', 'geometry': 'geometry_destination'})\n",
    "# Merge destination geometries 도착 격자 지오메트리 결합\n",
    "od_summed_with_geoms = od_summed_with_origin_geom.merge(grid_destination, on='d_cell_id', how='left')\n",
    "\n",
    "# Calculate centroids 중심점 계산\n",
    "od_summed_with_geoms['centroid_origin'] = od_summed_with_geoms['geometry_origin'].centroid  # 출발지 중심점\n",
    "od_summed_with_geoms['centroid_destination'] = od_summed_with_geoms['geometry_destination'].centroid  # 도착지 중심점\n",
    "\n",
    "# Filter out rows with null centroids 중심점이 null인 행 제거\n",
    "od_summed_filtered_centroids = od_summed_with_geoms[\n",
    "    od_summed_with_geoms['centroid_origin'].notna() &\n",
    "    od_summed_with_geoms['centroid_destination'].notna()\n",
    "].copy()\n",
    "\n",
    "# Create LineString geometries for flows 출발지-도착지 라인스트링 생성\n",
    "geometries_summed = [\n",
    "    LineString([origin, destination])\n",
    "    for origin, destination in zip(\n",
    "        od_summed_filtered_centroids['centroid_origin'],\n",
    "        od_summed_filtered_centroids['centroid_destination']\n",
    "    )\n",
    "]\n",
    "\n",
    "# Create GeoDataFrame with flow lines 플로우 라인으로 GeoDataFrame 생성\n",
    "od_lines_summed = gpd.GeoDataFrame(od_summed_filtered_centroids, geometry=geometries_summed)\n",
    "\n",
    "# Calculate top 1% threshold of total movements 이동량 상위 1% 임계값 계산\n",
    "total_movement_summed_series = od_lines_summed['total_movement_summed']\n",
    "threshold_summed_top1 = total_movement_summed_series.quantile(0.99, interpolation='linear')  # 99 분위수\n",
    "\n",
    "# Filter for top 1% flows 상위 1% 플로우 필터링\n",
    "od_lines_summed_top1_filtered = od_lines_summed[\n",
    "    od_lines_summed['total_movement_summed'] >= threshold_summed_top1\n",
    "].copy()\n",
    "\n",
    "#  Visualization 플롯 생성\n",
    "fig, ax = plt.subplots(1, 1, figsize=(15, 15))\n",
    "max_linewidth_summed = 5  # 최대 라인 두께 설정\n",
    "od_lines_summed_top1_filtered.plot(\n",
    "    ax=ax,\n",
    "    linewidth=od_lines_summed_top1_filtered['total_movement_summed'] / od_lines_summed_top1_filtered['total_movement_summed'].max() * max_linewidth_summed,\n",
    "    alpha=0.6, # 투명도 조절\n",
    "    color=\"#403bc3\" # 색상 선택\n",
    ")\n",
    "\n",
    "ax.set_title('Title', fontsize=15)\n",
    "ax.set_axis_off()\n",
    "plt.show()"
   ]
  },
  {
   "cell_type": "markdown",
   "id": "8a4d2ace-c78c-4fe2-bfe9-3ec5d9a1ed1f",
   "metadata": {
    "id": "8a4d2ace-c78c-4fe2-bfe9-3ec5d9a1ed1f"
   },
   "source": [
    "### Bivariate Choropleth Map 이변량 맵 생성"
   ]
  },
  {
   "cell_type": "code",
   "execution_count": null,
   "id": "0012087b",
   "metadata": {
    "id": "0012087b"
   },
   "outputs": [],
   "source": [
    "# This script visualizes a bivariate choropleth map using two selected variables (Variable 1 & Variable 2)\n",
    "# 두 개 변수(변수 1, 변수 2)를 사용한 이변량 맵 시각화\n",
    "# Variables can be customized for different analysis contexts.  # 분석 목적에 맞는 변수 조정 필요\n",
    "\n",
    "import matplotlib.patches as mpatches # 범례 색상 칸 생성에 필요한 모듈 추가 로드\n",
    "from mpl_toolkits.axes_grid1.inset_locator import inset_axes # 범례 삽입을 위한 모듈 추가 로드\n",
    "\n",
    "# Aggregate Variable 1 per Grid Cell  # 격자 셀별 변수 1 집계\n",
    "origin_var1_ldf = base_ldf.group_by('o_cell_id').agg(\n",
    "    pl.sum('variable1_cnt').alias('total_origin_var1')\n",
    ")\n",
    "destination_var1_ldf = base_ldf.group_by('d_cell_id').agg(\n",
    "    pl.sum('variable1_cnt').alias('total_destination_var1')\n",
    ")\n",
    "\n",
    "origin_var1_df = origin_var1_ldf.collect().to_pandas().rename(columns={'o_cell_id': 'cell_id'})  # 데이터 수집 및 컬럼명 통일\n",
    "destination_var1_df = destination_var1_ldf.collect().to_pandas().rename(columns={'d_cell_id': 'cell_id'})\n",
    "\n",
    "cell_var1_df = origin_var1_df.merge(destination_var1_df, on='cell_id', how='outer').fillna(0)  # 출발/도착 변수 1 합산 및 결측값 처리\n",
    "cell_var1_df['total_var1_related_to_cell'] = cell_var1_df['total_origin_var1'] + cell_var1_df['total_destination_var1']  # 변수 1 총합 계산\n",
    "\n",
    "# Merge Variable 1 with Variable 2 Data  # 변수 1과 변수 2 데이터 결합\n",
    "grid_bivariate = grid_with_variable2.merge(\n",
    "    cell_var1_df[['cell_id', 'total_var1_related_to_cell']],\n",
    "    on='cell_id',\n",
    "    how='left'\n",
    ").fillna({'total_var1_related_to_cell': 0})  # 결측값 0 처리\n",
    "\n",
    "# Quantile Classification for Both Variables  # 두 변수에 대한 분위수 구간화\n",
    "grid_bivariate['variable2_quantile'] = pd.qcut(\n",
    "    grid_bivariate['variable2_value'], q=3, labels=[0, 1, 2], duplicates='drop'\n",
    ")\n",
    "grid_bivariate['variable1_quantile'] = pd.qcut(\n",
    "    grid_bivariate['total_var1_related_to_cell'], q=3, labels=[0, 1, 2], duplicates='drop'\n",
    ")\n",
    "\n",
    "# Create Bivariate Category  # 이변량 카테고리 생성 (예: '2-1')\n",
    "grid_bivariate['bivariate_category'] = grid_bivariate.apply(\n",
    "    lambda row: f\"{int(row['variable2_quantile'])}-{int(row['variable1_quantile'])}\", axis=1\n",
    ")\n",
    "\n",
    "# Define Bivariate Color Mapping (3x3 Matrix)  # 색상 매핑 정의 (3x3 행렬)\n",
    "bivariate_colors_map = {\n",
    "    \"0-0\": \"#e8e8e8\", \"0-1\": \"#ace4e4\", \"0-2\": \"#5ac8c8\",\n",
    "    \"1-0\": \"#dfb0d6\", \"1-1\": \"#a5add3\", \"1-2\": \"#5698b9\",\n",
    "    \"2-0\": \"#be64ac\", \"2-1\": \"#8c62aa\", \"2-2\": \"#3b4994\"\n",
    "}\n",
    "grid_bivariate['bivariate_color'] = grid_bivariate['bivariate_category'].map(bivariate_colors_map)\n",
    "\n",
    "# Plot Bivariate Choropleth Map  # 시각화\n",
    "fig, ax = plt.subplots(1, 1, figsize=(15, 15))\n",
    "grid_bivariate.plot(\n",
    "    color=grid_bivariate['bivariate_color'],\n",
    "    ax=ax,\n",
    "    edgecolor=\"#6D6D6D\", # 격자 테두리 색상\n",
    ")\n",
    "ax.set_title('Title', fontsize=15)\n",
    "ax.set_axis_off()\n",
    "\n",
    "# Add Bivariate Legend  # 범례 추가\n",
    "legend_colors_matrix = np.array([\n",
    "    [bivariate_colors_map[\"0-0\"], bivariate_colors_map[\"0-1\"], bivariate_colors_map[\"0-2\"]],\n",
    "    [bivariate_colors_map[\"1-0\"], bivariate_colors_map[\"1-1\"], bivariate_colors_map[\"1-2\"]],\n",
    "    [bivariate_colors_map[\"2-0\"], bivariate_colors_map[\"2-1\"], bivariate_colors_map[\"2-2\"]]\n",
    "])\n",
    "\n",
    "axins = inset_axes(ax, width=\"10%\", height=\"10%\", loc='lower left', borderpad=2)  # 범례 위치 및 크기\n",
    "\n",
    "for i in range(3):\n",
    "    for j in range(3):\n",
    "        axins.add_patch(\n",
    "            mpatches.Rectangle((i, j), 1, 1, facecolor=legend_colors_matrix[j, i], edgecolor='none')\n",
    "        )\n",
    "\n",
    "axins.set_xticks([0.5, 1.5, 2.5])  # x축 눈금 위치 설정\n",
    "axins.set_yticks([0.5, 1.5, 2.5])  # y축 눈금 위치 설정\n",
    "axins.set_xticklabels(['Low', 'Mid', 'High'], fontsize=8)  # x축 눈금 레이블\n",
    "axins.set_yticklabels(['Low', 'Mid', 'High'], fontsize=8)  # y축 눈금 레이블\n",
    "axins.set_xlabel('Variable 1')  # x축 레이블\n",
    "axins.set_ylabel('Variable 2')  # y축 레이블\n",
    "axins.set_xlim(0, 3)  # x축 범위\n",
    "axins.set_ylim(0, 3)  # y축 범위\n",
    "axins.tick_params(left=False, bottom=False, labelleft=True, labelbottom=True)\n",
    "plt.show()"
   ]
  }
 ],
 "metadata": {
  "colab": {
   "provenance": []
  },
  "kernelspec": {
   "display_name": "Python 3 (ipykernel)",
   "language": "python",
   "name": "python3"
  },
  "language_info": {
   "codemirror_mode": {
    "name": "ipython",
    "version": 3
   },
   "file_extension": ".py",
   "mimetype": "text/x-python",
   "name": "python",
   "nbconvert_exporter": "python",
   "pygments_lexer": "ipython3",
   "version": "3.11.13"
  }
 },
 "nbformat": 4,
 "nbformat_minor": 5
}
